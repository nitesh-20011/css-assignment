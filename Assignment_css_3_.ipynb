{
  "nbformat": 4,
  "nbformat_minor": 0,
  "metadata": {
    "colab": {
      "provenance": []
    },
    "kernelspec": {
      "name": "python3",
      "display_name": "Python 3"
    },
    "language_info": {
      "name": "python"
    }
  },
  "cells": [
    {
      "cell_type": "code",
      "source": [
        "# Create a simple page with some div tags and show different ways to add CSS as well as what happens when you target the same elements with inline, internal, and external CSS. Also, utilize comments in the project where required.\n",
        "\n",
        "<!DOCTYPE html>\n",
        "<html lang=\"en\">\n",
        "<head>\n",
        "  <meta charset=\"UTF-8\">\n",
        "  <title>CSS Types Example</title>\n",
        "\n",
        "  <!-- Internal CSS -->\n",
        "  <style>\n",
        "    /* Internal CSS */\n",
        "    .box {\n",
        "      width: 150px;\n",
        "      height: 150px;\n",
        "      background-color: lightblue;\n",
        "      margin: 10px;\n",
        "      text-align: center;\n",
        "      line-height: 150px;\n",
        "      font-weight: bold;\n",
        "    }\n",
        "\n",
        "    /* Higher specificity because of ID */\n",
        "    #special-box {\n",
        "      background-color: coral;\n",
        "    }\n",
        "  </style>\n",
        "\n",
        "  <!-- External CSS -->\n",
        "  <link rel=\"stylesheet\" href=\"styles.css\">\n",
        "</head>\n",
        "<body>\n",
        "\n",
        "  <!-- Inline CSS -->\n",
        "  <div class=\"box\" style=\"background-color: yellow;\">Inline Style</div>\n",
        "\n",
        "  <!-- Internal CSS -->\n",
        "  <div class=\"box\">Internal Style</div>\n",
        "\n",
        "  <!-- External CSS and ID target -->\n",
        "  <div class=\"box\" id=\"special-box\">External + ID</div>\n",
        "\n",
        "</body>\n",
        "</html>\n"
      ],
      "metadata": {
        "id": "a1MpSFgkZuVs"
      },
      "execution_count": null,
      "outputs": []
    },
    {
      "cell_type": "code",
      "source": [
        "# Build an HTML page with multiple paragraphs, each assigned a unique class name. Write CSS rules using class selectors to apply distinct styling to each paragraph. Follow the BEM naming convention and explain how you've named the classes\n",
        "\n",
        "<!DOCTYPE html>\n",
        "<html lang=\"en\">\n",
        "<head>\n",
        "  <meta charset=\"UTF-8\">\n",
        "  <title>BEM Class Naming</title>\n",
        "  <link rel=\"stylesheet\" href=\"paragraphs.css\">\n",
        "</head>\n",
        "<body>\n",
        "\n",
        "  <p class=\"text-block__paragraph text-block__paragraph--primary\">This is the primary paragraph.</p>\n",
        "  <p class=\"text-block__paragraph text-block__paragraph--secondary\">This is the secondary paragraph.</p>\n",
        "  <p class=\"text-block__paragraph text-block__paragraph--highlight\">This is the highlighted paragraph.</p>\n",
        "\n",
        "</body>\n",
        "</html>\n"
      ],
      "metadata": {
        "id": "ega1mTVoai5j"
      },
      "execution_count": null,
      "outputs": []
    },
    {
      "cell_type": "code",
      "source": [],
      "metadata": {
        "id": "VKSPp-iaZuST"
      },
      "execution_count": null,
      "outputs": []
    },
    {
      "cell_type": "code",
      "source": [
        "# Develop an HTML form with various input elements. Use CSS to style the form, including setting background colors for input fields. Create a custom color palette for the form elements, and demonstrate how to apply opacity to one of the form sections\n",
        "\n",
        "<!DOCTYPE html>\n",
        "<html lang=\"en\">\n",
        "<head>\n",
        "  <meta charset=\"UTF-8\">\n",
        "  <title>Styled Form</title>\n",
        "  <link rel=\"stylesheet\" href=\"form.css\">\n",
        "</head>\n",
        "<body>\n",
        "\n",
        "  <form class=\"form-container\">\n",
        "    <h2>Contact Us</h2>\n",
        "\n",
        "    <div class=\"form-section form-section--opaque\">\n",
        "      <label for=\"name\">Name:</label>\n",
        "      <input type=\"text\" id=\"name\" name=\"name\">\n",
        "\n",
        "      <label for=\"email\">Email:</label>\n",
        "      <input type=\"email\" id=\"email\" name=\"email\">\n",
        "    </div>\n",
        "\n",
        "    <div class=\"form-section\">\n",
        "      <label for=\"message\">Message:</label>\n",
        "      <textarea id=\"message\" name=\"message\"></textarea>\n",
        "\n",
        "      <button type=\"submit\">Send</button>\n",
        "    </div>\n",
        "\n",
        "  </form>\n",
        "\n",
        "</body>\n",
        "</html>\n"
      ],
      "metadata": {
        "id": "czLz4BuLa3AH"
      },
      "execution_count": null,
      "outputs": []
    },
    {
      "cell_type": "markdown",
      "source": [],
      "metadata": {
        "id": "ofj72AQzZt2N"
      }
    }
  ]
}